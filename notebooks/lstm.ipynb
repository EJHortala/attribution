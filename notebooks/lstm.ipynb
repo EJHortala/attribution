{
 "cells": [
  {
   "cell_type": "code",
   "execution_count": null,
   "metadata": {},
   "outputs": [],
   "source": [
    "import os\n",
    "import urllib.request\n",
    "import zipfile\n",
    "\n",
    "import matplotlib.pyplot as plt\n",
    "import numpy as np\n",
    "import pandas as pd\n",
    "import torch\n",
    "import torch.nn as nn\n",
    "import torch.nn.functional as F"
   ]
  },
  {
   "cell_type": "code",
   "execution_count": null,
   "metadata": {},
   "outputs": [],
   "source": [
    "dataset_path = \"../data/download/\"\n",
    "data_raw = \"../data/raw/\"\n",
    "\n",
    "\n",
    "def download_dataset(dataset_path):\n",
    "    urllib.request.urlretrieve(\n",
    "        \"https://go.criteois.com/criteo-research-attribution-dataset.zip\",\n",
    "        dataset_path + \"criteo_attribution_dataset.zip\",\n",
    "    )\n",
    "\n",
    "    zippath = dataset_path + \"criteo_attribution_dataset.zip\"\n",
    "    with zipfile.ZipFile(zippath, \"r\") as zip_ref:\n",
    "        zip_ref.extractall(data_raw)\n",
    "\n",
    "\n",
    "if not os.path.exists(data_raw + \"criteo_attribution_dataset.tsv.gz\"):\n",
    "    print(\"Downloading dataset...\")\n",
    "    download_dataset(dataset_path)"
   ]
  },
  {
   "cell_type": "code",
   "execution_count": null,
   "metadata": {},
   "outputs": [],
   "source": []
  },
  {
   "cell_type": "code",
   "execution_count": null,
   "metadata": {},
   "outputs": [],
   "source": []
  }
 ],
 "metadata": {
  "interpreter": {
   "hash": "1cab1bcd757b22b674a73e32394e666864d7f76f5e492d5ca9bef603ab47d1ca"
  },
  "kernelspec": {
   "display_name": "Python 3.10.1 ('.venv': poetry)",
   "language": "python",
   "name": "python3"
  },
  "language_info": {
   "codemirror_mode": {
    "name": "ipython",
    "version": 3
   },
   "file_extension": ".py",
   "mimetype": "text/x-python",
   "name": "python",
   "nbconvert_exporter": "python",
   "pygments_lexer": "ipython3",
   "version": "3.10.1"
  }
 },
 "nbformat": 4,
 "nbformat_minor": 2
}
